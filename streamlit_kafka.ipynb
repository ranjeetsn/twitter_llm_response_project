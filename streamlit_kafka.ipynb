{
 "cells": [
  {
   "cell_type": "code",
   "execution_count": 1,
   "metadata": {},
   "outputs": [
    {
     "name": "stdout",
     "output_type": "stream",
     "text": [
      "Collecting kafka\n",
      "  Downloading kafka-1.3.5-py2.py3-none-any.whl (207 kB)\n",
      "\u001b[2K     \u001b[90m━━━━━━━━━━━━━━━━━━━━━━━━━━━━━━━━━━━━━━━\u001b[0m \u001b[32m207.2/207.2 kB\u001b[0m \u001b[31m3.5 MB/s\u001b[0m eta \u001b[36m0:00:00\u001b[0ma \u001b[36m0:00:01\u001b[0m\n",
      "\u001b[?25hInstalling collected packages: kafka\n",
      "Successfully installed kafka-1.3.5\n"
     ]
    }
   ],
   "source": [
    "!pip install kafka"
   ]
  },
  {
   "cell_type": "code",
   "execution_count": 2,
   "metadata": {},
   "outputs": [
    {
     "name": "stdout",
     "output_type": "stream",
     "text": [
      "Collecting streamlit\n",
      "  Downloading streamlit-1.30.0-py2.py3-none-any.whl.metadata (8.2 kB)\n",
      "Collecting altair<6,>=4.0 (from streamlit)\n",
      "  Downloading altair-5.2.0-py3-none-any.whl.metadata (8.7 kB)\n",
      "Collecting blinker<2,>=1.0.0 (from streamlit)\n",
      "  Downloading blinker-1.7.0-py3-none-any.whl.metadata (1.9 kB)\n",
      "Requirement already satisfied: cachetools<6,>=4.0 in ./.venv/lib/python3.11/site-packages (from streamlit) (5.3.2)\n",
      "Requirement already satisfied: click<9,>=7.0 in ./.venv/lib/python3.11/site-packages (from streamlit) (8.1.7)\n",
      "Requirement already satisfied: importlib-metadata<8,>=1.4 in ./.venv/lib/python3.11/site-packages (from streamlit) (6.11.0)\n",
      "Requirement already satisfied: numpy<2,>=1.19.3 in ./.venv/lib/python3.11/site-packages (from streamlit) (1.26.2)\n",
      "Requirement already satisfied: packaging<24,>=16.8 in ./.venv/lib/python3.11/site-packages (from streamlit) (23.2)\n",
      "Requirement already satisfied: pandas<3,>=1.3.0 in ./.venv/lib/python3.11/site-packages (from streamlit) (2.1.4)\n",
      "Requirement already satisfied: pillow<11,>=7.1.0 in ./.venv/lib/python3.11/site-packages (from streamlit) (10.1.0)\n",
      "Requirement already satisfied: protobuf<5,>=3.20 in ./.venv/lib/python3.11/site-packages (from streamlit) (4.23.4)\n",
      "Requirement already satisfied: pyarrow>=6.0 in ./.venv/lib/python3.11/site-packages (from streamlit) (15.0.0)\n",
      "Requirement already satisfied: python-dateutil<3,>=2.7.3 in ./.venv/lib/python3.11/site-packages (from streamlit) (2.8.2)\n",
      "Requirement already satisfied: requests<3,>=2.27 in ./.venv/lib/python3.11/site-packages (from streamlit) (2.31.0)\n",
      "Collecting rich<14,>=10.14.0 (from streamlit)\n",
      "  Downloading rich-13.7.0-py3-none-any.whl.metadata (18 kB)\n",
      "Requirement already satisfied: tenacity<9,>=8.1.0 in ./.venv/lib/python3.11/site-packages (from streamlit) (8.2.3)\n",
      "Collecting toml<2,>=0.10.1 (from streamlit)\n",
      "  Using cached toml-0.10.2-py2.py3-none-any.whl (16 kB)\n",
      "Requirement already satisfied: typing-extensions<5,>=4.3.0 in ./.venv/lib/python3.11/site-packages (from streamlit) (4.9.0)\n",
      "Collecting tzlocal<6,>=1.1 (from streamlit)\n",
      "  Using cached tzlocal-5.2-py3-none-any.whl.metadata (7.8 kB)\n",
      "Collecting validators<1,>=0.2 (from streamlit)\n",
      "  Using cached validators-0.22.0-py3-none-any.whl.metadata (4.7 kB)\n",
      "Collecting gitpython!=3.1.19,<4,>=3.0.7 (from streamlit)\n",
      "  Downloading GitPython-3.1.41-py3-none-any.whl.metadata (14 kB)\n",
      "Collecting pydeck<1,>=0.8.0b4 (from streamlit)\n",
      "  Using cached pydeck-0.8.1b0-py2.py3-none-any.whl (4.8 MB)\n",
      "Requirement already satisfied: tornado<7,>=6.0.3 in ./.venv/lib/python3.11/site-packages (from streamlit) (6.4)\n",
      "Requirement already satisfied: jinja2 in ./.venv/lib/python3.11/site-packages (from altair<6,>=4.0->streamlit) (3.1.2)\n",
      "Collecting jsonschema>=3.0 (from altair<6,>=4.0->streamlit)\n",
      "  Downloading jsonschema-4.21.1-py3-none-any.whl.metadata (7.8 kB)\n",
      "Collecting toolz (from altair<6,>=4.0->streamlit)\n",
      "  Downloading toolz-0.12.1-py3-none-any.whl.metadata (5.1 kB)\n",
      "Collecting gitdb<5,>=4.0.1 (from gitpython!=3.1.19,<4,>=3.0.7->streamlit)\n",
      "  Using cached gitdb-4.0.11-py3-none-any.whl.metadata (1.2 kB)\n",
      "Requirement already satisfied: zipp>=0.5 in ./.venv/lib/python3.11/site-packages (from importlib-metadata<8,>=1.4->streamlit) (3.17.0)\n",
      "Requirement already satisfied: pytz>=2020.1 in ./.venv/lib/python3.11/site-packages (from pandas<3,>=1.3.0->streamlit) (2023.3.post1)\n",
      "Requirement already satisfied: tzdata>=2022.1 in ./.venv/lib/python3.11/site-packages (from pandas<3,>=1.3.0->streamlit) (2023.3)\n",
      "Requirement already satisfied: six>=1.5 in ./.venv/lib/python3.11/site-packages (from python-dateutil<3,>=2.7.3->streamlit) (1.16.0)\n",
      "Requirement already satisfied: charset-normalizer<4,>=2 in ./.venv/lib/python3.11/site-packages (from requests<3,>=2.27->streamlit) (3.3.2)\n",
      "Requirement already satisfied: idna<4,>=2.5 in ./.venv/lib/python3.11/site-packages (from requests<3,>=2.27->streamlit) (3.6)\n",
      "Requirement already satisfied: urllib3<3,>=1.21.1 in ./.venv/lib/python3.11/site-packages (from requests<3,>=2.27->streamlit) (1.26.18)\n",
      "Requirement already satisfied: certifi>=2017.4.17 in ./.venv/lib/python3.11/site-packages (from requests<3,>=2.27->streamlit) (2023.11.17)\n",
      "Collecting markdown-it-py>=2.2.0 (from rich<14,>=10.14.0->streamlit)\n",
      "  Using cached markdown_it_py-3.0.0-py3-none-any.whl.metadata (6.9 kB)\n",
      "Requirement already satisfied: pygments<3.0.0,>=2.13.0 in ./.venv/lib/python3.11/site-packages (from rich<14,>=10.14.0->streamlit) (2.17.2)\n",
      "Collecting smmap<6,>=3.0.1 (from gitdb<5,>=4.0.1->gitpython!=3.1.19,<4,>=3.0.7->streamlit)\n",
      "  Using cached smmap-5.0.1-py3-none-any.whl.metadata (4.3 kB)\n",
      "Requirement already satisfied: MarkupSafe>=2.0 in ./.venv/lib/python3.11/site-packages (from jinja2->altair<6,>=4.0->streamlit) (2.1.3)\n",
      "Requirement already satisfied: attrs>=22.2.0 in ./.venv/lib/python3.11/site-packages (from jsonschema>=3.0->altair<6,>=4.0->streamlit) (23.2.0)\n",
      "Collecting jsonschema-specifications>=2023.03.6 (from jsonschema>=3.0->altair<6,>=4.0->streamlit)\n",
      "  Using cached jsonschema_specifications-2023.12.1-py3-none-any.whl.metadata (3.0 kB)\n",
      "Collecting referencing>=0.28.4 (from jsonschema>=3.0->altair<6,>=4.0->streamlit)\n",
      "  Downloading referencing-0.32.1-py3-none-any.whl.metadata (2.7 kB)\n",
      "Collecting rpds-py>=0.7.1 (from jsonschema>=3.0->altair<6,>=4.0->streamlit)\n",
      "  Downloading rpds_py-0.17.1-cp311-cp311-macosx_11_0_arm64.whl.metadata (4.1 kB)\n",
      "Collecting mdurl~=0.1 (from markdown-it-py>=2.2.0->rich<14,>=10.14.0->streamlit)\n",
      "  Using cached mdurl-0.1.2-py3-none-any.whl (10.0 kB)\n",
      "Downloading streamlit-1.30.0-py2.py3-none-any.whl (8.4 MB)\n",
      "\u001b[2K   \u001b[90m━━━━━━━━━━━━━━━━━━━━━━━━━━━━━━━━━━━━━━━━\u001b[0m \u001b[32m8.4/8.4 MB\u001b[0m \u001b[31m11.8 MB/s\u001b[0m eta \u001b[36m0:00:00\u001b[0m00:01\u001b[0m00:01\u001b[0m\n",
      "\u001b[?25hDownloading altair-5.2.0-py3-none-any.whl (996 kB)\n",
      "\u001b[2K   \u001b[90m━━━━━━━━━━━━━━━━━━━━━━━━━━━━━━━━━━━━━━━━\u001b[0m \u001b[32m996.9/996.9 kB\u001b[0m \u001b[31m41.5 MB/s\u001b[0m eta \u001b[36m0:00:00\u001b[0m\n",
      "\u001b[?25hDownloading blinker-1.7.0-py3-none-any.whl (13 kB)\n",
      "Downloading GitPython-3.1.41-py3-none-any.whl (196 kB)\n",
      "\u001b[2K   \u001b[90m━━━━━━━━━━━━━━━━━━━━━━━━━━━━━━━━━━━━━━━━\u001b[0m \u001b[32m196.4/196.4 kB\u001b[0m \u001b[31m16.2 MB/s\u001b[0m eta \u001b[36m0:00:00\u001b[0m\n",
      "\u001b[?25hDownloading rich-13.7.0-py3-none-any.whl (240 kB)\n",
      "\u001b[2K   \u001b[90m━━━━━━━━━━━━━━━━━━━━━━━━━━━━━━━━━━━━━━━━\u001b[0m \u001b[32m240.6/240.6 kB\u001b[0m \u001b[31m20.7 MB/s\u001b[0m eta \u001b[36m0:00:00\u001b[0m\n",
      "\u001b[?25hUsing cached tzlocal-5.2-py3-none-any.whl (17 kB)\n",
      "Using cached validators-0.22.0-py3-none-any.whl (26 kB)\n",
      "Using cached gitdb-4.0.11-py3-none-any.whl (62 kB)\n",
      "Downloading jsonschema-4.21.1-py3-none-any.whl (85 kB)\n",
      "\u001b[2K   \u001b[90m━━━━━━━━━━━━━━━━━━━━━━━━━━━━━━━━━━━━━━━━\u001b[0m \u001b[32m85.5/85.5 kB\u001b[0m \u001b[31m9.3 MB/s\u001b[0m eta \u001b[36m0:00:00\u001b[0m\n",
      "\u001b[?25hUsing cached markdown_it_py-3.0.0-py3-none-any.whl (87 kB)\n",
      "Downloading toolz-0.12.1-py3-none-any.whl (56 kB)\n",
      "\u001b[2K   \u001b[90m━━━━━━━━━━━━━━━━━━━━━━━━━━━━━━━━━━━━━━━━\u001b[0m \u001b[32m56.1/56.1 kB\u001b[0m \u001b[31m8.5 MB/s\u001b[0m eta \u001b[36m0:00:00\u001b[0m\n",
      "\u001b[?25hUsing cached jsonschema_specifications-2023.12.1-py3-none-any.whl (18 kB)\n",
      "Downloading referencing-0.32.1-py3-none-any.whl (26 kB)\n",
      "Downloading rpds_py-0.17.1-cp311-cp311-macosx_11_0_arm64.whl (352 kB)\n",
      "\u001b[2K   \u001b[90m━━━━━━━━━━━━━━━━━━━━━━━━━━━━━━━━━━━━━━━━\u001b[0m \u001b[32m352.9/352.9 kB\u001b[0m \u001b[31m16.7 MB/s\u001b[0m eta \u001b[36m0:00:00\u001b[0m\n",
      "\u001b[?25hUsing cached smmap-5.0.1-py3-none-any.whl (24 kB)\n",
      "Installing collected packages: validators, tzlocal, toolz, toml, smmap, rpds-py, mdurl, blinker, referencing, pydeck, markdown-it-py, gitdb, rich, jsonschema-specifications, gitpython, jsonschema, altair, streamlit\n",
      "Successfully installed altair-5.2.0 blinker-1.7.0 gitdb-4.0.11 gitpython-3.1.41 jsonschema-4.21.1 jsonschema-specifications-2023.12.1 markdown-it-py-3.0.0 mdurl-0.1.2 pydeck-0.8.1b0 referencing-0.32.1 rich-13.7.0 rpds-py-0.17.1 smmap-5.0.1 streamlit-1.30.0 toml-0.10.2 toolz-0.12.1 tzlocal-5.2 validators-0.22.0\n"
     ]
    }
   ],
   "source": [
    "!pip install streamlit"
   ]
  },
  {
   "cell_type": "code",
   "execution_count": 4,
   "metadata": {},
   "outputs": [],
   "source": [
    "\"\"\"\n",
    "    File Name : References.py\n",
    "    File Description : References class for keeping the constants, tokens and reference path\n",
    "\"\"\"\n",
    "\n",
    "import os\n",
    "import sys\n",
    "\n",
    "class References:\n",
    "\n",
    "    ROOT_DIR = \"\"\n",
    "    ONE = 1\n",
    "    ZERO = 0\n",
    "    BATCH_SIZE_BINARY_EVALUATE = 32\n",
    "\n",
    "    BINARY_INPUT_LEN = 32\n",
    "    MAX_FEATURES_BINARY = 2000\n",
    "\n",
    "    OUTPUT = \"output/\"\n",
    "    INPUT = \"input/\"\n",
    "\n",
    "    # The maximum number of words to be used. (most frequent)\n",
    "    MAX_NB_WORDS = 50000\n",
    "    # Max number of words in each complaint.\n",
    "    MAX_SEQUENCE_LENGTH = 250\n",
    "    # This is fixed. Embedding\n",
    "    EMBEDDING_DIM = 100\n",
    "\n",
    "    PIPE_EXECPTIONS = [\"ner\", \"trf_wordpiecer\", \"trf_tok2vec\"]\n",
    "    # Training data for NER\n",
    "    TRAIN_DATA = [\n",
    "        (\"Walmart is a leading e-commerce company\", {\"entities\": [(0, 7, \"ORG\")]}),\n",
    "        (\"I reached Chennai yesterday.\", {\"entities\": [(19, 28, \"GPE\")]}),\n",
    "        (\"I recently ordered a book from Amazon\", {\"entities\": [(24, 32, \"ORG\")]}),\n",
    "        (\"I was driving a BMW\", {\"entities\": [(16, 19, \"PRODUCT\")]}),\n",
    "        (\"I ordered this from ShopClues\", {\"entities\": [(20, 29, \"ORG\")]}),\n",
    "        (\"Fridge can be ordered in Amazon \", {\"entities\": [(0, 6, \"PRODUCT\")]}),\n",
    "        (\"I bought a new Washer\", {\"entities\": [(16, 22, \"PRODUCT\")]}),\n",
    "        (\"I bought a old table\", {\"entities\": [(16, 21, \"PRODUCT\")]}),\n",
    "        (\"I bought a fancy dress\", {\"entities\": [(18, 23, \"PRODUCT\")]}),\n",
    "        (\"I rented a camera\", {\"entities\": [(12, 18, \"PRODUCT\")]}),\n",
    "        (\"I rented a tent for our trip\", {\"entities\": [(12, 16, \"PRODUCT\")]}),\n",
    "        (\"I rented a screwdriver from our neighbour\", {\"entities\": [(12, 22, \"PRODUCT\")]}),\n",
    "        (\"I repaired my computer\", {\"entities\": [(15, 23, \"PRODUCT\")]}),\n",
    "        (\"I got my clock fixed\", {\"entities\": [(16, 21, \"PRODUCT\")]}),\n",
    "        (\"I got my truck fixed\", {\"entities\": [(16, 21, \"PRODUCT\")]}),\n",
    "        (\"Flipkart started it's journey from zero\", {\"entities\": [(0, 8, \"ORG\")]}),\n",
    "        (\"I recently ordered from Max\", {\"entities\": [(24, 27, \"ORG\")]}),\n",
    "        (\"Flipkart is recognized as leader in market\", {\"entities\": [(0, 8, \"ORG\")]}),\n",
    "        (\"Virgin America is recognized as leader in market\", {\"entities\": [(0, 14, \"ORG\")]}),\n",
    "        (\"Virgin America is the best airline ever\", {\"entities\": [(0, 14, \"ORG\")]}),\n",
    "        (\"I recently ordered from Swiggy\", {\"entities\": [(24, 29, \"ORG\")]}),\n",
    "        (\"Projectpro_test is a great airline.\", {\"entities\": [(0, 15, \"ORG\")]}),\n",
    "        (\"Projectpro_test is a great airline.\", {\"entities\": [(0, 15, \"ORG\")]}),\n",
    "        (\"Projectpro_test is a great airline.\", {\"entities\": [(0, 15, \"ORG\")]}),\n",
    "        (\"Projectpro_test is a great airline.\", {\"entities\": [(0, 15, \"ORG\")]})\n",
    "    ]\n",
    "\n",
    "    #Insert your IP with Port 9092 Eg- \"34.221.72.51:9092\"\n",
    "    BOOTSTRAP_SERVER = 'localhost:9092' \n",
    "\n",
    "    TOPIC_NAME = \"tweet-data\"\n",
    "\n",
    "    SINK_TOPIC=\"sink-data\"\n",
    "\n",
    "    # PARC_PATH = \"./parc_sample\"\n",
    "\n",
    "    # Insert your credentials for Tweet\n",
    "    access_token = \"1412669800707330048-Axh3xFxNAYbSt7t7XnBEW7QIprLk0y\"\n",
    "    access_secret = \"Zrzl6n5pkGzgiSBesIOooGwVqW6AHCEXmGGRXUw1bgMmt\"\n",
    "\n",
    "    consumer_key = \"PA4SD4sL3OK4RewfUGR5I58tj\"\n",
    "    consumer_secret = \"reDTNpU61whECGlWrZn0WERs5s1O7EdBSB0TdsG7VEDuz1Ybzz\"\n",
    "\n",
    "    TRACK_TWEET = \"projectpro_test\"\n",
    "\n",
    "    # api-endpoint\n",
    "    #Insert your IP with Port 5000 Eg- \"http://34.221.72.51:5000/\"\n",
    "    URL = \"\"\n"
   ]
  },
  {
   "cell_type": "code",
   "execution_count": 5,
   "metadata": {},
   "outputs": [
    {
     "ename": "SyntaxError",
     "evalue": "invalid syntax (simple.py, line 54)",
     "output_type": "error",
     "traceback": [
      "Traceback \u001b[0;36m(most recent call last)\u001b[0m:\n",
      "\u001b[0m  File \u001b[1;32m~/Desktop/twitter_llm_response_project/.venv/lib/python3.11/site-packages/IPython/core/interactiveshell.py:3553\u001b[0m in \u001b[1;35mrun_code\u001b[0m\n    exec(code_obj, self.user_global_ns, self.user_ns)\u001b[0m\n",
      "\u001b[0m  Cell \u001b[1;32mIn[5], line 1\u001b[0m\n    from kafka import KafkaProducer\u001b[0m\n",
      "\u001b[0m  File \u001b[1;32m~/Desktop/twitter_llm_response_project/.venv/lib/python3.11/site-packages/kafka/__init__.py:23\u001b[0m\n    from kafka.producer import KafkaProducer\u001b[0m\n",
      "\u001b[0;36m  File \u001b[0;32m~/Desktop/twitter_llm_response_project/.venv/lib/python3.11/site-packages/kafka/producer/__init__.py:4\u001b[0;36m\n\u001b[0;31m    from .simple import SimpleProducer\u001b[0;36m\n",
      "\u001b[0;36m  File \u001b[0;32m~/Desktop/twitter_llm_response_project/.venv/lib/python3.11/site-packages/kafka/producer/simple.py:54\u001b[0;36m\u001b[0m\n\u001b[0;31m    return '<SimpleProducer batch=%s>' % self.async\u001b[0m\n\u001b[0m                                              ^\u001b[0m\n\u001b[0;31mSyntaxError\u001b[0m\u001b[0;31m:\u001b[0m invalid syntax\n"
     ]
    }
   ],
   "source": [
    "from kafka import KafkaProducer\n",
    "from streamlit import StreamlitApp, text_input\n",
    "\n",
    "# from MLPipeline.References import References\n",
    "\n",
    "class Engine_kafka(References):\n",
    "\n",
    "    def __init__(self):\n",
    "        \"\"\" Setup Kafka Producer\"\"\"\n",
    "        self.producer = KafkaProducer(bootstrap_servers=self.BOOTSTRAP_SERVER)  # Same port as your Kafka server\n",
    "\n",
    "    def stream_text_to_kafka(self, text_data):\n",
    "        \"\"\"Stream Text Data to Kafka\"\"\"\n",
    "        # Assuming text_data is a string that you want to send to Kafka\n",
    "        self.producer.send('your_topic_name', value=text_data.encode('utf-8'))\n",
    "\n",
    "# Assuming you have a StreamlitApp class or module that represents your Streamlit app\n",
    "class YourStreamlitApp(StreamlitApp):\n",
    "\n",
    "    def __init__(self, engine):\n",
    "        self.engine = engine\n",
    "\n",
    "    def run(self):\n",
    "        # Your Streamlit app logic\n",
    "        text_data = text_input('Enter text:')\n",
    "        if text_data:\n",
    "            self.engine.stream_text_to_kafka(text_data)\n",
    "\n",
    "# Create an instance of the Engine_kafka class\n",
    "e = Engine_kafka()\n",
    "\n",
    "# Create an instance of YourStreamlitApp, passing the engine\n",
    "streamlit_app = YourStreamlitApp(e)\n",
    "\n",
    "# Run the Streamlit app\n",
    "streamlit_app.run()"
   ]
  },
  {
   "cell_type": "code",
   "execution_count": 6,
   "metadata": {},
   "outputs": [
    {
     "name": "stdout",
     "output_type": "stream",
     "text": [
      "Collecting kafka-python\n",
      "  Using cached kafka_python-2.0.2-py2.py3-none-any.whl (246 kB)\n",
      "Installing collected packages: kafka-python\n",
      "Successfully installed kafka-python-2.0.2\n"
     ]
    }
   ],
   "source": [
    "!pip install kafka-python"
   ]
  },
  {
   "cell_type": "code",
   "execution_count": 8,
   "metadata": {},
   "outputs": [
    {
     "ename": "ImportError",
     "evalue": "cannot import name 'IncompatibleBrokerVersion' from 'kafka.errors' (/Users/ranjeetnagarkar/Desktop/twitter_llm_response_project/.venv/lib/python3.11/site-packages/kafka/errors.py)",
     "output_type": "error",
     "traceback": [
      "\u001b[0;31m---------------------------------------------------------------------------\u001b[0m",
      "\u001b[0;31mImportError\u001b[0m                               Traceback (most recent call last)",
      "\u001b[1;32m/Users/ranjeetnagarkar/Desktop/twitter_llm_response_project/streamlit_kafka.ipynb Cell 6\u001b[0m line \u001b[0;36m1\n\u001b[0;32m----> <a href='vscode-notebook-cell:/Users/ranjeetnagarkar/Desktop/twitter_llm_response_project/streamlit_kafka.ipynb#X10sZmlsZQ%3D%3D?line=0'>1</a>\u001b[0m \u001b[39mfrom\u001b[39;00m \u001b[39mkafka\u001b[39;00m \u001b[39mimport\u001b[39;00m KafkaProducer\n",
      "File \u001b[0;32m~/Desktop/twitter_llm_response_project/.venv/lib/python3.11/site-packages/kafka/__init__.py:21\u001b[0m\n\u001b[1;32m     16\u001b[0m             \u001b[39mpass\u001b[39;00m\n\u001b[1;32m     18\u001b[0m logging\u001b[39m.\u001b[39mgetLogger(\u001b[39m__name__\u001b[39m)\u001b[39m.\u001b[39maddHandler(NullHandler())\n\u001b[0;32m---> 21\u001b[0m \u001b[39mfrom\u001b[39;00m \u001b[39mkafka\u001b[39;00m\u001b[39m.\u001b[39;00m\u001b[39madmin\u001b[39;00m \u001b[39mimport\u001b[39;00m KafkaAdminClient\n\u001b[1;32m     22\u001b[0m \u001b[39mfrom\u001b[39;00m \u001b[39mkafka\u001b[39;00m\u001b[39m.\u001b[39;00m\u001b[39mclient_async\u001b[39;00m \u001b[39mimport\u001b[39;00m KafkaClient\n\u001b[1;32m     23\u001b[0m \u001b[39mfrom\u001b[39;00m \u001b[39mkafka\u001b[39;00m\u001b[39m.\u001b[39;00m\u001b[39mconsumer\u001b[39;00m \u001b[39mimport\u001b[39;00m KafkaConsumer\n",
      "File \u001b[0;32m~/Desktop/twitter_llm_response_project/.venv/lib/python3.11/site-packages/kafka/admin/__init__.py:4\u001b[0m\n\u001b[1;32m      1\u001b[0m \u001b[39mfrom\u001b[39;00m \u001b[39m__future__\u001b[39;00m \u001b[39mimport\u001b[39;00m absolute_import\n\u001b[1;32m      3\u001b[0m \u001b[39mfrom\u001b[39;00m \u001b[39mkafka\u001b[39;00m\u001b[39m.\u001b[39;00m\u001b[39madmin\u001b[39;00m\u001b[39m.\u001b[39;00m\u001b[39mconfig_resource\u001b[39;00m \u001b[39mimport\u001b[39;00m ConfigResource, ConfigResourceType\n\u001b[0;32m----> 4\u001b[0m \u001b[39mfrom\u001b[39;00m \u001b[39mkafka\u001b[39;00m\u001b[39m.\u001b[39;00m\u001b[39madmin\u001b[39;00m\u001b[39m.\u001b[39;00m\u001b[39mclient\u001b[39;00m \u001b[39mimport\u001b[39;00m KafkaAdminClient\n\u001b[1;32m      5\u001b[0m \u001b[39mfrom\u001b[39;00m \u001b[39mkafka\u001b[39;00m\u001b[39m.\u001b[39;00m\u001b[39madmin\u001b[39;00m\u001b[39m.\u001b[39;00m\u001b[39macl_resource\u001b[39;00m \u001b[39mimport\u001b[39;00m (ACL, ACLFilter, ResourcePattern, ResourcePatternFilter, ACLOperation,\n\u001b[1;32m      6\u001b[0m                                       ResourceType, ACLPermissionType, ACLResourcePatternType)\n\u001b[1;32m      7\u001b[0m \u001b[39mfrom\u001b[39;00m \u001b[39mkafka\u001b[39;00m\u001b[39m.\u001b[39;00m\u001b[39madmin\u001b[39;00m\u001b[39m.\u001b[39;00m\u001b[39mnew_topic\u001b[39;00m \u001b[39mimport\u001b[39;00m NewTopic\n",
      "File \u001b[0;32m~/Desktop/twitter_llm_response_project/.venv/lib/python3.11/site-packages/kafka/admin/client.py:16\u001b[0m\n\u001b[1;32m     14\u001b[0m \u001b[39mfrom\u001b[39;00m \u001b[39mkafka\u001b[39;00m\u001b[39m.\u001b[39;00m\u001b[39mcoordinator\u001b[39;00m\u001b[39m.\u001b[39;00m\u001b[39mprotocol\u001b[39;00m \u001b[39mimport\u001b[39;00m ConsumerProtocolMemberMetadata, ConsumerProtocolMemberAssignment, ConsumerProtocol\n\u001b[1;32m     15\u001b[0m \u001b[39mimport\u001b[39;00m \u001b[39mkafka\u001b[39;00m\u001b[39m.\u001b[39;00m\u001b[39merrors\u001b[39;00m \u001b[39mas\u001b[39;00m \u001b[39mErrors\u001b[39;00m\n\u001b[0;32m---> 16\u001b[0m \u001b[39mfrom\u001b[39;00m \u001b[39mkafka\u001b[39;00m\u001b[39m.\u001b[39;00m\u001b[39merrors\u001b[39;00m \u001b[39mimport\u001b[39;00m (\n\u001b[1;32m     17\u001b[0m     IncompatibleBrokerVersion, KafkaConfigurationError, NotControllerError,\n\u001b[1;32m     18\u001b[0m     UnrecognizedBrokerVersion, IllegalArgumentError)\n\u001b[1;32m     19\u001b[0m \u001b[39mfrom\u001b[39;00m \u001b[39mkafka\u001b[39;00m\u001b[39m.\u001b[39;00m\u001b[39mmetrics\u001b[39;00m \u001b[39mimport\u001b[39;00m MetricConfig, Metrics\n\u001b[1;32m     20\u001b[0m \u001b[39mfrom\u001b[39;00m \u001b[39mkafka\u001b[39;00m\u001b[39m.\u001b[39;00m\u001b[39mprotocol\u001b[39;00m\u001b[39m.\u001b[39;00m\u001b[39madmin\u001b[39;00m \u001b[39mimport\u001b[39;00m (\n\u001b[1;32m     21\u001b[0m     CreateTopicsRequest, DeleteTopicsRequest, DescribeConfigsRequest, AlterConfigsRequest, CreatePartitionsRequest,\n\u001b[1;32m     22\u001b[0m     ListGroupsRequest, DescribeGroupsRequest, DescribeAclsRequest, CreateAclsRequest, DeleteAclsRequest,\n\u001b[1;32m     23\u001b[0m     DeleteGroupsRequest\n\u001b[1;32m     24\u001b[0m )\n",
      "\u001b[0;31mImportError\u001b[0m: cannot import name 'IncompatibleBrokerVersion' from 'kafka.errors' (/Users/ranjeetnagarkar/Desktop/twitter_llm_response_project/.venv/lib/python3.11/site-packages/kafka/errors.py)"
     ]
    }
   ],
   "source": [
    "from kafka import KafkaProducer"
   ]
  },
  {
   "cell_type": "code",
   "execution_count": 7,
   "metadata": {},
   "outputs": [
    {
     "ename": "NameError",
     "evalue": "name 'KafkaProducer' is not defined",
     "output_type": "error",
     "traceback": [
      "\u001b[0;31m---------------------------------------------------------------------------\u001b[0m",
      "\u001b[0;31mNameError\u001b[0m                                 Traceback (most recent call last)",
      "\u001b[1;32m/Users/ranjeetnagarkar/Desktop/twitter_llm_response_project/streamlit_kafka.ipynb Cell 6\u001b[0m line \u001b[0;36m1\n\u001b[0;32m----> <a href='vscode-notebook-cell:/Users/ranjeetnagarkar/Desktop/twitter_llm_response_project/streamlit_kafka.ipynb#W5sZmlsZQ%3D%3D?line=0'>1</a>\u001b[0m producer \u001b[39m=\u001b[39m KafkaProducer(bootstrap_servers\u001b[39m=\u001b[39m\u001b[39m'\u001b[39m\u001b[39mlocalhost:9092\u001b[39m\u001b[39m'\u001b[39m, api_version\u001b[39m=\u001b[39m(\u001b[39m0\u001b[39m,\u001b[39m11\u001b[39m,\u001b[39m5\u001b[39m)) \u001b[39m#Same port as your Kafka server\u001b[39;00m\n",
      "\u001b[0;31mNameError\u001b[0m: name 'KafkaProducer' is not defined"
     ]
    }
   ],
   "source": [
    "producer = KafkaProducer(bootstrap_servers='localhost:9092', api_version=(0,11,5)) #Same port as your Kafka server\n"
   ]
  }
 ],
 "metadata": {
  "kernelspec": {
   "display_name": ".venv",
   "language": "python",
   "name": "python3"
  },
  "language_info": {
   "codemirror_mode": {
    "name": "ipython",
    "version": 3
   },
   "file_extension": ".py",
   "mimetype": "text/x-python",
   "name": "python",
   "nbconvert_exporter": "python",
   "pygments_lexer": "ipython3",
   "version": "3.11.3"
  }
 },
 "nbformat": 4,
 "nbformat_minor": 2
}
